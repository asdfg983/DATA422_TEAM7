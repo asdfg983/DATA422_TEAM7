{
  "nbformat": 4,
  "nbformat_minor": 0,
  "metadata": {
    "colab": {
      "provenance": []
    },
    "kernelspec": {
      "name": "python3",
      "display_name": "Python 3"
    },
    "language_info": {
      "name": "python"
    }
  },
  "cells": [
    {
      "cell_type": "markdown",
      "source": [
        "Final Project\n",
        "\n",
        "Names: Zavala,Tran,Franssen,Seitz\n",
        "\n",
        "Class: Data 422\n",
        "\n",
        "Seattle Housing Crises Analysis"
      ],
      "metadata": {
        "id": "g2cOpLiOKb0w"
      }
    },
    {
      "cell_type": "markdown",
      "source": [
        "## **1. Introduction**\n",
        "# Project Overview:\n",
        "Our project focuses on the Seattle Housing Crisis. We aim to analyze housing affordability, availability, and trends. Our objective is to find what factors contribute to housing insecurities and see if we could potentially find a gap or data solution.\n",
        "\n",
        "# Project Questions:\n",
        "\n",
        "1. What are the key factors contributing to housing affordability in Seattle?\n",
        "2. How do housing affordability and availability vary across Seattle neighborhoods?\n",
        "3. Are there patterns of housing affordability linked to specific demographic or economic factors?\n",
        "4. Is the government doing enough to ensure that residents can afford the cost of living?\n",
        "\n",
        "\n",
        "**Models**\n",
        "\n",
        "\n",
        "*   Regression\n",
        "*   Classification\n",
        "*   PCA & Clustering\n",
        "\n",
        "\n",
        "Through regression, we will be able to determine which variables are most significant in modeling this data. Through PCA, we can effectively reduce the dimensions of the data to then use with clustering to identify groups and aptterns. Classification allows us to make predictions within the data based on other features using machine learning.\n",
        "\n",
        "\n",
        "\n",
        "\n",
        "\n",
        "\n",
        "\n",
        "\n",
        "\n",
        "\n",
        "\n",
        "\n",
        "\n",
        "\n",
        "\n",
        "\n",
        "\n",
        "\n"
      ],
      "metadata": {
        "id": "x-sychGVKpkM"
      }
    },
    {
      "cell_type": "markdown",
      "source": [
        "## **2. Data Preparation**"
      ],
      "metadata": {
        "id": "63amlmnr4Vnr"
      }
    },
    {
      "cell_type": "code",
      "source": [
        "from google.colab import drive\n",
        "drive.mount('/content/drive')"
      ],
      "metadata": {
        "id": "jE5yM7GLJ5LH",
        "colab": {
          "base_uri": "https://localhost:8080/"
        },
        "outputId": "6c117658-a4d8-40bb-e00d-13c9cd1588f1"
      },
      "execution_count": null,
      "outputs": [
        {
          "output_type": "stream",
          "name": "stdout",
          "text": [
            "Mounted at /content/drive\n"
          ]
        }
      ]
    },
    {
      "cell_type": "code",
      "execution_count": 4,
      "metadata": {
        "id": "FxSDRrN6KVJ0",
        "colab": {
          "base_uri": "https://localhost:8080/"
        },
        "outputId": "5462f4a1-96b8-4744-a43e-93934a5879e9"
      },
      "outputs": [
        {
          "output_type": "stream",
          "name": "stdout",
          "text": [
            "OBJECTID                                                                                                                      0\n",
            "NEIGH_NO                                                                                                                      0\n",
            "Neighborhood Name                                                                                                             0\n",
            "Neighborhood Type                                                                                                             0\n",
            "Neighborhood Subtype                                                                                                          7\n",
            "ACS Vinatage                                                                                                                  0\n",
            "Occupied Housing Units                                                                                                        0\n",
            "Owner Households                                                                                                              0\n",
            "Renter Households                                                                                                             0\n",
            "Gross Rent as a Percentage of Household Income Less than 15.0%                                                                0\n",
            "Gross Rent as a Percentage of Household Income 15.0 to 19.9%                                                                  0\n",
            "Gross Rent as a Percentage of Household Income 20.0 to 24.9%                                                                  0\n",
            "Gross Rent as a Percentage of Household Income 25.0 to 29.9%                                                                  0\n",
            "Gross Rent as a Percentage of Household Income 30.0 to 34.9%                                                                  0\n",
            "Gross Rent as a Percentage of Household Income 35.0% or more                                                                  0\n",
            "Gross Rent 30% or more of Household Income                                                                                    0\n",
            "Gross Rent as a Percentage of Household Income Not Computed                                                                   0\n",
            "Owner housing units with a mortgage where selected monthly onwer costs as a percentage of household income can be computed    0\n",
            "Selected Monthly Owner Costs as a Percentage of Household Income Less than 20.0%                                              0\n",
            "Selected Monthly Owner Costs as a Percentage of Household Income 20.0 to 24.9%                                                0\n",
            " Selected Monthly Owner Costs as a Percentage of Household Income 25.0 to 29.9%                                               0\n",
            "Selected Monthly Owner Costs as a Percentage of Household Income 30.0 to 34.9%                                                0\n",
            "Selected Monthly Owner Costs as a Percentage of Household Income 35.0% or more                                                0\n",
            "Monthly Costs 30% or more of Household Income (owners with a mortgage)                                                        0\n",
            "Housing units with a mortgage where selected monthly onwer costs a s a percentage of household income not computed            0\n",
            "Renter housing units with gross rent                                                                                          0\n",
            "Gross Rent Less Than $500                                                                                                     0\n",
            "Gross Rent $500-$999                                                                                                          0\n",
            "Gross Rent $1,000-$1,499                                                                                                      0\n",
            "Gross Rent $1,500-$1,999                                                                                                      0\n",
            "Gross Rent $2,000-$2,499                                                                                                      0\n",
            "Gross Rent $2,500-$2,999                                                                                                      0\n",
            "Gross Rent $3,000-$3,499                                                                                                      0\n",
            "Gross Rent $3,500 or more                                                                                                     0\n",
            "No cash rent                                                                                                                  0\n",
            "Owner housing units with a mortgage                                                                                           0\n",
            "Owner Costs Less Than $1,000                                                                                                  0\n",
            "Owner Costs $1,000-$1,499                                                                                                     0\n",
            "Owner Costs $1,500-$1,999                                                                                                     0\n",
            "Owner Costs $2,000-$2,499                                                                                                     0\n",
            "Owner Costs $2,500-$2,999                                                                                                     0\n",
            "Owner Costs $3,000-$3,499                                                                                                     0\n",
            "Owner Costs $3,500-$3,999                                                                                                     0\n",
            "Owner Costs $4,000 or more                                                                                                    0\n",
            "Owner housing units without a mortgage                                                                                        0\n",
            "Neighborhood Type (outside comp plan areas id)                                                                                0\n",
            "dtype: int64\n"
          ]
        }
      ],
      "source": [
        "import pandas as pd\n",
        "import numpy as np\n",
        "# Loading the datasets\n",
        "\n",
        "rent_data = pd.read_csv('Rent_Burden.csv')\n",
        "\n",
        "# Check for missing values\n",
        "print(rent_data.isnull().sum())\n",
        "\n",
        "# Fill missing values in numeric columns with the mean of each column\n",
        "numeric_cols = rent_data.select_dtypes(include='number').columns\n",
        "rent_data[numeric_cols] = rent_data[numeric_cols].fillna(rent_data[numeric_cols].mean())\n",
        "# Drop rows with missing data\n",
        "rent_data.dropna(inplace=True)\n",
        "\n",
        "# Select relevant columns\n",
        "columns_to_use = [\n",
        "    'Gross Rent as a Percentage of Household Income Less than 15.0%',\n",
        "    'Gross Rent as a Percentage of Household Income 15.0 to 19.9%',\n",
        "    'Gross Rent as a Percentage of Household Income 20.0 to 24.9%',\n",
        "    'Gross Rent as a Percentage of Household Income 25.0 to 29.9%',\n",
        "    'Gross Rent as a Percentage of Household Income 30.0 to 34.9%',\n",
        "    'Owner housing units with a mortgage',\n",
        "    'Owner Costs Less Than $1,000',\n",
        "    'Owner Costs $1,000-$1,499',\n",
        "    'Owner Costs $1,500-$1,999',\n",
        "    'Owner Costs $2,000-$2,499',\n",
        "    'Owner Costs $2,500-$2,999',\n",
        "    'Owner Costs $3,000-$3,499',\n",
        "    'Owner Costs $3,500-$3,999',\n",
        "    'Owner Costs $4,000 or more'\n",
        "]\n",
        "\n",
        "# Filter the dataset to include only these columns\n",
        "X = rent_data[columns_to_use]\n",
        "\n",
        "# Target variable: \"Gross Rent as a Percentage of Household Income 35.0% or more\"\n",
        "y = rent_data['Gross Rent as a Percentage of Household Income 35.0% or more']\n",
        "\n",
        "\n",
        "\n"
      ]
    },
    {
      "cell_type": "markdown",
      "source": [
        "## **3. Methodology**"
      ],
      "metadata": {
        "id": "pgOj7T-D4jUN"
      }
    },
    {
      "cell_type": "markdown",
      "source": [
        "Below are the revised models for the regression, classification, and clustering models.\n",
        "\n",
        "Regression Model Modifications:\n",
        "\n",
        "Added parameters to limit outliers and adjusted scale of X and Y axis on the output plot. These changes allowed the overall plot to be clearer and easier to understand the details of the Data"
      ],
      "metadata": {
        "id": "PYdWJiysPI4U"
      }
    },
    {
      "cell_type": "markdown",
      "source": [
        "### Method 1: Regression\n"
      ],
      "metadata": {
        "id": "eIeq175b4sx8"
      }
    },
    {
      "cell_type": "code",
      "source": [
        "from sklearn.model_selection import train_test_split\n",
        "\n",
        "# Split the data into training and testing sets (80% training, 20% testing)\n",
        "X_train, X_test, y_train, y_test = train_test_split(X, y, test_size=0.2, random_state=42)\n",
        "\n",
        "from sklearn.linear_model import LinearRegression\n",
        "\n",
        "# Initialize the regression model\n",
        "model = LinearRegression()\n",
        "\n",
        "# Fit the model\n",
        "model.fit(X_train, y_train)\n",
        "from sklearn.metrics import mean_squared_error, r2_score\n",
        "\n",
        "# Predict on the test set\n",
        "y_pred = model.predict(X_test)\n",
        "\n",
        "# Calculate R-squared and Mean Squared Error\n",
        "r2 = r2_score(y_test, y_pred)\n",
        "mse = mean_squared_error(y_test, y_pred)\n",
        "\n",
        "# Print the results\n",
        "print(f\"Intercept: {model.intercept_}\")\n",
        "print(f\"Coefficients: {model.coef_}\")\n",
        "print(f\"R-squared: {r2}\")\n",
        "print(f\"Mean Squared Error: {mse}\")\n",
        "\n"
      ],
      "metadata": {
        "id": "_JtgTY1qtmtX",
        "colab": {
          "base_uri": "https://localhost:8080/"
        },
        "outputId": "84867edf-4ef5-4d6c-fd7f-dcf5c6261bae"
      },
      "execution_count": 5,
      "outputs": [
        {
          "output_type": "stream",
          "name": "stdout",
          "text": [
            "Intercept: 153.93213553989835\n",
            "Coefficients: [-0.12858739  0.38586411  0.35346901  1.02174599  1.30411119 -0.04883656\n",
            " -3.25486027  3.65953634 -0.73683786  0.78174309  1.01500404 -0.53103369\n",
            " -0.83504463 -0.14734357]\n",
            "R-squared: 0.9809533450286174\n",
            "Mean Squared Error: 408121.15624893666\n"
          ]
        }
      ]
    },
    {
      "cell_type": "code",
      "source": [
        "import matplotlib.pyplot as plt\n",
        "import seaborn as sns\n",
        "\n",
        "# Plot actual vs predicted values for the test set\n",
        "plt.figure(figsize=(10, 6))\n",
        "sns.scatterplot(x=y_test, y=y_pred, alpha=0.7)\n",
        "plt.xlabel(\"Actual Values\")\n",
        "plt.ylabel(\"Predicted Values\")\n",
        "plt.title(\"Actual vs Predicted Rent Burden\")\n",
        "plt.xlim(0, 2000)  # Set the x-axis range\n",
        "plt.ylim(0, 3000)  # Set the y-axis range\n",
        "plt.show()\n",
        "\n",
        "\n"
      ],
      "metadata": {
        "id": "LMWTh082ug7j",
        "outputId": "a8c0553b-2713-493a-e19d-5e9bdb69bf33",
        "colab": {
          "base_uri": "https://localhost:8080/",
          "height": 564
        }
      },
      "execution_count": 6,
      "outputs": [
        {
          "output_type": "display_data",
          "data": {
            "text/plain": [
              "<Figure size 1000x600 with 1 Axes>"
            ],
            "image/png": "[encoded data removed]"
          },
          "metadata": {}
        }
      ]
    },
    {
      "cell_type": "markdown",
      "source": [
        "Higher Rent Burden is Associated with Higher Rent Ranges: As expected, neighborhoods with more households paying 25% or more of their income on rent (especially those paying 30% or more) have a significantly higher rent burden. For example, the coefficients for Gross Rent 25%-30% and 30%-35% show strong positive relationships with rent burden.\n",
        "\n",
        "Homeownership Costs Play a Significant Role: Interestingly, owner costs (e.g., homes with monthly costs between $1,000 and $1,499) have a strong positive effect on the rent burden, suggesting that in neighborhoods with higher owner costs, renters may face increased challenges. This could be due to the fact that these higher homeownership costs reduce the availability of rental units or reduce rental affordability due to increased property values.\n",
        "\n",
        "Areas with more owner-occupied housing (especially those with lower owner costs, such as under $1,000) tend to show lower rent burdens. This suggests that homeownership may stabilize the housing market and reduce pressure on rental markets."
      ],
      "metadata": {
        "id": "mXaYSjsdpaJy"
      }
    },
    {
      "cell_type": "markdown",
      "source": [
        "### Method 2: Classification"
      ],
      "metadata": {
        "id": "I9mlqA2NG0b-"
      }
    },
    {
      "cell_type": "markdown",
      "source": [
        "\n",
        "Classification Model Modifications:\n",
        "\n",
        "Removed features that did not directly relate to the overall data, removing messiness to create a more concise output to focus on relevant classifying features"
      ],
      "metadata": {
        "id": "JUSHAjk9PBjE"
      }
    },
    {
      "cell_type": "code",
      "source": [
        "\n",
        "import pandas as pd\n",
        "from sklearn.model_selection import train_test_split\n",
        "from sklearn.preprocessing import StandardScaler\n",
        "from sklearn.ensemble import RandomForestClassifier\n",
        "from sklearn.metrics import classification_report, accuracy_score\n",
        "\n",
        "df2 = pd.read_csv('Rent_Burden.csv')\n",
        "\n",
        "numeric_features = df2.select_dtypes(include=['number']).columns.tolist()\n",
        "# Drop NEIGH_NO and OBJECTID from numeric_features\n",
        "numeric_features = df2.select_dtypes(include=['number']).columns.tolist()\n",
        "numeric_features = [col for col in numeric_features if col not in ['NEIGH_NO', 'OBJECTID']]\n",
        "\n",
        "df2_classification = df2[numeric_features + ['Neighborhood Type']]\n",
        "\n",
        "\n",
        "# Drop rows with any missing values\n",
        "df2_classification.dropna(inplace=True)\n",
        "df2_classification['Neighborhood Type'] = df2_classification['Neighborhood Type'].astype('category').cat.codes\n",
        "\n",
        "# Split the data into features\n",
        "X = df2_classification[numeric_features]  # Features\n",
        "y = df2_classification['Neighborhood Type']  # Target\n",
        "\n",
        "# Split the data into training and testing sets\n",
        "X_train, X_test, y_train, y_test = train_test_split(X, y, test_size=0.2, random_state=42)\n",
        "\n",
        "#  Scale the features\n",
        "scaler = StandardScaler()\n",
        "X_train_scaled = scaler.fit_transform(X_train)\n",
        "X_test_scaled = scaler.transform(X_test)\n",
        "\n",
        "#Train classifier\n",
        "model = RandomForestClassifier(random_state=42)\n",
        "model.fit(X_train_scaled, y_train)\n",
        "\n",
        "# Make predictions\n",
        "y_pred = model.predict(X_test_scaled)\n",
        "\n",
        "#Evaluate the model's performance\n",
        "accuracy = accuracy_score(y_test, y_pred)\n",
        "print(f\"Accuracy: {accuracy:.2f}\")\n",
        "print(\"\\nClassification Report:\")\n",
        "print(classification_report(y_test, y_pred))\n",
        "\n",
        "#Display feature importance\n",
        "importances = model.feature_importances_\n",
        "feature_importance_df = pd.DataFrame({\n",
        "    'Feature': numeric_features,\n",
        "    'Importance': importances\n",
        "})\n",
        "print(\"\\nFeature Importance:\")\n",
        "#print(feature_importance_df.sort_values(by='Importance', ascending=False))\n",
        "print(feature_importance_df.head())\n"
      ],
      "metadata": {
        "colab": {
          "base_uri": "https://localhost:8080/"
        },
        "id": "Ra6fGyj9OX0r",
        "outputId": "c2b65553-6f8d-4740-b109-9180babfc39e"
      },
      "execution_count": 7,
      "outputs": [
        {
          "output_type": "stream",
          "name": "stderr",
          "text": [
            "<ipython-input-7-0aa3d17ca4e6>:18: SettingWithCopyWarning: \n",
            "A value is trying to be set on a copy of a slice from a DataFrame\n",
            "\n",
            "See the caveats in the documentation: https://pandas.pydata.org/pandas-docs/stable/user_guide/indexing.html#returning-a-view-versus-a-copy\n",
            "  df2_classification.dropna(inplace=True)\n",
            "<ipython-input-7-0aa3d17ca4e6>:19: SettingWithCopyWarning: \n",
            "A value is trying to be set on a copy of a slice from a DataFrame.\n",
            "Try using .loc[row_indexer,col_indexer] = value instead\n",
            "\n",
            "See the caveats in the documentation: https://pandas.pydata.org/pandas-docs/stable/user_guide/indexing.html#returning-a-view-versus-a-copy\n",
            "  df2_classification['Neighborhood Type'] = df2_classification['Neighborhood Type'].astype('category').cat.codes\n"
          ]
        },
        {
          "output_type": "stream",
          "name": "stdout",
          "text": [
            "Accuracy: 0.63\n",
            "\n",
            "Classification Report:\n",
            "              precision    recall  f1-score   support\n",
            "\n",
            "           0       0.50      1.00      0.67         1\n",
            "           1       0.64      0.78      0.70         9\n",
            "           2       0.67      0.44      0.53         9\n",
            "\n",
            "    accuracy                           0.63        19\n",
            "   macro avg       0.60      0.74      0.63        19\n",
            "weighted avg       0.64      0.63      0.62        19\n",
            "\n",
            "\n",
            "Feature Importance:\n",
            "                                             Feature  Importance\n",
            "0                             Occupied Housing Units    0.024272\n",
            "1                                   Owner Households    0.043040\n",
            "2                                  Renter Households    0.016701\n",
            "3  Gross Rent as a Percentage of Household Income...    0.008083\n",
            "4  Gross Rent as a Percentage of Household Income...    0.014755\n"
          ]
        }
      ]
    },
    {
      "cell_type": "markdown",
      "source": [
        "Classification Results:\n",
        "\n",
        "With this classification model we are able to generate classifications of neighborhood type using the other features from the data. From the results, the columns  Owner housing units without a mortgage,  Owner Households, Owner Costs $4,000 or more, are some of the strongest indicators for classifying neighborhood.\n",
        "\n",
        "The model performance overall is strong, with extremely high precision and recall scores. Overall, this model is well fit for classification and may further help us to understand the relationship between the key features in the data.\n"
      ],
      "metadata": {
        "id": "8UOqT_l5OcC9"
      }
    },
    {
      "cell_type": "markdown",
      "source": [
        "### Method 3: Clustering\n"
      ],
      "metadata": {
        "id": "qw6DLzIU2ELk"
      }
    },
    {
      "cell_type": "markdown",
      "source": [
        "\n",
        "Clustering Model Modifications:\n",
        "\n",
        "Due to some outliers in the data, the clustering model was improved with a robust scaling operation to better handle the outliers without removing them entirely, as these observations still may be significant to the data overall."
      ],
      "metadata": {
        "id": "qJyEfWn2PpX-"
      }
    },
    {
      "cell_type": "code",
      "source": [
        "import pandas as pd\n",
        "from sklearn.preprocessing import StandardScaler\n",
        "from sklearn.cluster import KMeans\n",
        "from sklearn.preprocessing import RobustScaler\n",
        "import matplotlib.pyplot as plt\n",
        "import seaborn as sns\n",
        "\n",
        "\n",
        "# drop non numeric columns\n",
        "df = pd.read_csv('Housing_Characteristics.csv')\n",
        "df3 = df.drop(df.columns[[2, 3, 4, 5, 53]], axis=1)\n",
        "\n",
        "# Standardizing the data\n",
        "robust_scaler = RobustScaler()\n",
        "df3_scaled = robust_scaler.fit_transform(df3)\n",
        "\n",
        "# Finding the optimal number of clusters using the Elbow Method\n",
        "inertia = []\n",
        "cluster_range = range(1, 11)  # Let's try from 1 to 10 clusters\n",
        "\n",
        "for k in cluster_range:\n",
        "    kmeans = KMeans(n_clusters=k, random_state=42)\n",
        "    kmeans.fit(df3_scaled)\n",
        "    inertia.append(kmeans.inertia_)\n",
        "\n",
        "# Plot the Elbow curve\n",
        "plt.figure(figsize=(8, 5))\n",
        "plt.plot(cluster_range, inertia, marker='o', linestyle='--')\n",
        "plt.xlabel('Number of Clusters')\n",
        "plt.ylabel('Inertia')\n",
        "plt.title('Elbow Method for Optimal Clusters')\n",
        "plt.show()\n",
        "\n",
        "# fit K-Means with optimal K\n",
        "optimal_k = 3\n",
        "kmeans = KMeans(n_clusters=optimal_k, random_state=42)\n",
        "df3['Cluster'] = kmeans.fit_predict(df3_scaled)\n",
        "\n",
        "# Visualize clusters\n",
        "from sklearn.decomposition import PCA\n",
        "\n",
        "pca = PCA(n_components=2)\n",
        "df3_pca = pca.fit_transform(df3_scaled)\n",
        "df3['PCA1'] = df3_pca[:, 0]\n",
        "df3['PCA2'] = df3_pca[:, 1]\n",
        "\n",
        "# Scatter plot of clusters\n",
        "plt.figure(figsize=(10, 7))\n",
        "sns.scatterplot(x='PCA1', y='PCA2', hue='Cluster', data=df3, palette='viridis', s=100)\n",
        "plt.title(f'K-Means Clustering with {optimal_k} Clusters')\n",
        "plt.xlabel('PCA Component 1')\n",
        "plt.ylabel('PCA Component 2')\n",
        "plt.legend(title='Cluster')\n",
        "plt.show()\n",
        "\n"
      ],
      "metadata": {
        "colab": {
          "base_uri": "https://localhost:8080/",
          "height": 1000
        },
        "id": "jJMoWheF2FLZ",
        "outputId": "1780e212-1ac5-403f-8d69-2752ce521cb1"
      },
      "execution_count": 8,
      "outputs": [
        {
          "output_type": "display_data",
          "data": {
            "text/plain": [
              "<Figure size 800x500 with 1 Axes>"
            ],
            "image/png": "[encoded data removed]"
          },
          "metadata": {}
        },
        {
          "output_type": "display_data",
          "data": {
            "text/plain": [
              "<Figure size 1000x700 with 1 Axes>"
            ],
            "image/png": "[encoded data removed]"
          },
          "metadata": {}
        }
      ]
    },
    {
      "cell_type": "code",
      "source": [
        "# Calculate the mean of each feature for each cluster\n",
        "cluster_summary = df3.groupby('Cluster').mean()\n",
        "print(cluster_summary)"
      ],
      "metadata": {
        "colab": {
          "base_uri": "https://localhost:8080/"
        },
        "id": "T2gXYGLF8jEO",
        "outputId": "31b711f8-a80a-4525-f79f-f0cc9b795444"
      },
      "execution_count": 9,
      "outputs": [
        {
          "output_type": "stream",
          "name": "stdout",
          "text": [
            "          OBJECTID   NEIGH_NO  Total Housing Units  Occupied Housing Units  \\\n",
            "Cluster                                                                      \n",
            "0        48.250000  81.825000         14887.250000            13694.083333   \n",
            "1        47.129870  78.885714          8388.168831             7731.714286   \n",
            "2        23.333333   3.000000         97890.666667            92322.333333   \n",
            "\n",
            "         Vacant Housing Units  1-unit detached  1-unit attached      2 units  \\\n",
            "Cluster                                                                        \n",
            "0                 1193.166667      5271.833333       911.416667   373.833333   \n",
            "1                  656.454545      2785.493506       449.415584   153.012987   \n",
            "2                 5568.333333     51918.333333      5796.333333  2523.333333   \n",
            "\n",
            "         3 or 4 units  5 to 9 units  ...  5 or more bedrooms owner occupied  \\\n",
            "Cluster                              ...                                      \n",
            "0          510.416667    827.333333  ...                         517.666667   \n",
            "1          272.454545    436.597403  ...                         236.285714   \n",
            "2         3485.333333   5429.666667  ...                        4641.666667   \n",
            "\n",
            "         1 bedroom renter occupied  2 bedrooms renter occupied  \\\n",
            "Cluster                                                          \n",
            "0                      2933.666667                 2024.416667   \n",
            "1                      1851.662338                 1163.389610   \n",
            "2                     15217.333333                11592.000000   \n",
            "\n",
            "         3 bedrooms renter occupied  4 bedrooms renter occupied  \\\n",
            "Cluster                                                           \n",
            "0                        840.000000                  286.166667   \n",
            "1                        357.038961                  105.051948   \n",
            "2                       5091.000000                 1834.000000   \n",
            "\n",
            "         5 or more bedrooms renter occupied  No bedroom owner occupied  \\\n",
            "Cluster                                                                  \n",
            "0                                125.666667                  80.583333   \n",
            "1                                 57.688312                  65.259740   \n",
            "2                                635.666667                 485.666667   \n",
            "\n",
            "         No bedroom renter occupied        PCA1       PCA2  \n",
            "Cluster                                                     \n",
            "0                       2092.666667   74.091766  17.439681  \n",
            "1                       1062.285714  -18.410695  -1.521618  \n",
            "2                       6320.000000  176.174111 -30.703865  \n",
            "\n",
            "[3 rows x 51 columns]\n"
          ]
        }
      ]
    },
    {
      "cell_type": "markdown",
      "source": [
        "Clustering Results:\n",
        "\n",
        "The model above was built using K means, which was determined to perform best with K = 3. Through PCA, we reduced the dimensions and formed three main clusters. We have now identified three distinct groups which are partitioned to show similarities between characteristics.\n",
        "\n",
        "Cluster 0: Smaller neighborhoods with a balanced mix of owner-occupied and renter-occupied homes, moderate vacancy rate.\n",
        "Cluster 1: Large urban neighborhoods with a high number of housing units and a significant proportion of rentals, along with some larger, more expensive homes.\n",
        "Cluster 2: A mix of detached homes and rental properties, likely representing suburban areas with moderate to high vacancy rates."
      ],
      "metadata": {
        "id": "nm_WQ_NnGTpD"
      }
    },
    {
      "cell_type": "markdown",
      "source": [
        "## **5. Conclusion**\n",
        "Regression Analysis: Identified key predictors of housing affordability, such as median income and rent costs, highlighting economic inequalities. These results guide targeted interventions like income support or affordable housing programs.\n",
        "\n",
        "Clustering Analysis: Grouped neighborhoods by affordability and availability, revealing regions with extreme challenges. This informs targeted policies, such as zoning reforms or incentivized development.\n",
        "\n",
        "PCA: Simplified complex data, showing housing costs, income, and density as the most influential factors. PCA enhanced visualization and focus for stakeholder communication.\n",
        "\n",
        "---\n",
        "\n",
        "## **6. References**\n",
        "Housing Characteristics Data: https://data.seattle.gov/dataset/Housing-Characteristics-Seattle-Neighborhoods/qkiz-c544\n",
        "\n",
        "Rent Burden Data: https://data.seattle.gov/dataset/Housing-Tenure-and-Costs-Seattle-Neighborhoods/r4hu-gxdi\n",
        "\n",
        "Policy Analysis Data: https://data.seattle.gov/dataset/Incomes-Occupations-and-Earnings-Seattle-Neighborh/cm78-ajfy\n",
        "\n",
        "Demographic Data: https://data.seattle.gov/dataset/Selected-Demographic-and-Housing-Estimates-DP05-/ux5h-byz7"
      ],
      "metadata": {
        "id": "cU9SSwrx6Lba"
      }
    },
    {
      "cell_type": "code",
      "source": [
        "\n"
      ],
      "metadata": {
        "id": "fG46sl3NvwGj"
      },
      "execution_count": null,
      "outputs": []
    },
    {
      "cell_type": "code",
      "source": [
        "!pip install dash pandas numpy plotly"
      ],
      "metadata": {
        "colab": {
          "base_uri": "https://localhost:8080/"
        },
        "id": "bIk7jBqYsk12",
        "outputId": "67d78016-a7fd-4bbd-828f-0a30b33a2473"
      },
      "execution_count": 10,
      "outputs": [
        {
          "output_type": "stream",
          "name": "stdout",
          "text": [
            "Collecting dash\n",
            "  Downloading dash-2.18.2-py3-none-any.whl.metadata (10 kB)\n",
            "Requirement already satisfied: pandas in /usr/local/lib/python3.10/dist-packages (2.2.2)\n",
            "Requirement already satisfied: numpy in /usr/local/lib/python3.10/dist-packages (1.26.4)\n",
            "Requirement already satisfied: plotly in /usr/local/lib/python3.10/dist-packages (5.24.1)\n",
            "Requirement already satisfied: Flask<3.1,>=1.0.4 in /usr/local/lib/python3.10/dist-packages (from dash) (3.0.3)\n",
            "Collecting Werkzeug<3.1 (from dash)\n",
            "  Downloading werkzeug-3.0.6-py3-none-any.whl.metadata (3.7 kB)\n",
            "Collecting dash-html-components==2.0.0 (from dash)\n",
            "  Downloading dash_html_components-2.0.0-py3-none-any.whl.metadata (3.8 kB)\n",
            "Collecting dash-core-components==2.0.0 (from dash)\n",
            "  Downloading dash_core_components-2.0.0-py3-none-any.whl.metadata (2.9 kB)\n",
            "Collecting dash-table==5.0.0 (from dash)\n",
            "  Downloading dash_table-5.0.0-py3-none-any.whl.metadata (2.4 kB)\n",
            "Requirement already satisfied: importlib-metadata in /usr/local/lib/python3.10/dist-packages (from dash) (8.5.0)\n",
            "Requirement already satisfied: typing-extensions>=4.1.1 in /usr/local/lib/python3.10/dist-packages (from dash) (4.12.2)\n",
            "Requirement already satisfied: requests in /usr/local/lib/python3.10/dist-packages (from dash) (2.32.3)\n",
            "Collecting retrying (from dash)\n",
            "  Downloading retrying-1.3.4-py3-none-any.whl.metadata (6.9 kB)\n",
            "Requirement already satisfied: nest-asyncio in /usr/local/lib/python3.10/dist-packages (from dash) (1.6.0)\n",
            "Requirement already satisfied: setuptools in /usr/local/lib/python3.10/dist-packages (from dash) (75.1.0)\n",
            "Requirement already satisfied: python-dateutil>=2.8.2 in /usr/local/lib/python3.10/dist-packages (from pandas) (2.8.2)\n",
            "Requirement already satisfied: pytz>=2020.1 in /usr/local/lib/python3.10/dist-packages (from pandas) (2024.2)\n",
            "Requirement already satisfied: tzdata>=2022.7 in /usr/local/lib/python3.10/dist-packages (from pandas) (2024.2)\n",
            "Requirement already satisfied: tenacity>=6.2.0 in /usr/local/lib/python3.10/dist-packages (from plotly) (9.0.0)\n",
            "Requirement already satisfied: packaging in /usr/local/lib/python3.10/dist-packages (from plotly) (24.2)\n",
            "Requirement already satisfied: Jinja2>=3.1.2 in /usr/local/lib/python3.10/dist-packages (from Flask<3.1,>=1.0.4->dash) (3.1.4)\n",
            "Requirement already satisfied: itsdangerous>=2.1.2 in /usr/local/lib/python3.10/dist-packages (from Flask<3.1,>=1.0.4->dash) (2.2.0)\n",
            "Requirement already satisfied: click>=8.1.3 in /usr/local/lib/python3.10/dist-packages (from Flask<3.1,>=1.0.4->dash) (8.1.7)\n",
            "Requirement already satisfied: blinker>=1.6.2 in /usr/local/lib/python3.10/dist-packages (from Flask<3.1,>=1.0.4->dash) (1.9.0)\n",
            "Requirement already satisfied: six>=1.5 in /usr/local/lib/python3.10/dist-packages (from python-dateutil>=2.8.2->pandas) (1.16.0)\n",
            "Requirement already satisfied: MarkupSafe>=2.1.1 in /usr/local/lib/python3.10/dist-packages (from Werkzeug<3.1->dash) (3.0.2)\n",
            "Requirement already satisfied: zipp>=3.20 in /usr/local/lib/python3.10/dist-packages (from importlib-metadata->dash) (3.21.0)\n",
            "Requirement already satisfied: charset-normalizer<4,>=2 in /usr/local/lib/python3.10/dist-packages (from requests->dash) (3.4.0)\n",
            "Requirement already satisfied: idna<4,>=2.5 in /usr/local/lib/python3.10/dist-packages (from requests->dash) (3.10)\n",
            "Requirement already satisfied: urllib3<3,>=1.21.1 in /usr/local/lib/python3.10/dist-packages (from requests->dash) (2.2.3)\n",
            "Requirement already satisfied: certifi>=2017.4.17 in /usr/local/lib/python3.10/dist-packages (from requests->dash) (2024.8.30)\n",
            "Downloading dash-2.18.2-py3-none-any.whl (7.8 MB)\n",
            "\u001b[2K   \u001b[90m━━━━━━━━━━━━━━━━━━━━━━━━━━━━━━━━━━━━━━━━\u001b[0m \u001b[32m7.8/7.8 MB\u001b[0m \u001b[31m41.4 MB/s\u001b[0m eta \u001b[36m0:00:00\u001b[0m\n",
            "\u001b[?25hDownloading dash_core_components-2.0.0-py3-none-any.whl (3.8 kB)\n",
            "Downloading dash_html_components-2.0.0-py3-none-any.whl (4.1 kB)\n",
            "Downloading dash_table-5.0.0-py3-none-any.whl (3.9 kB)\n",
            "Downloading werkzeug-3.0.6-py3-none-any.whl (227 kB)\n",
            "\u001b[2K   \u001b[90m━━━━━━━━━━━━━━━━━━━━━━━━━━━━━━━━━━━━━━━━\u001b[0m \u001b[32m228.0/228.0 kB\u001b[0m \u001b[31m16.7 MB/s\u001b[0m eta \u001b[36m0:00:00\u001b[0m\n",
            "\u001b[?25hDownloading retrying-1.3.4-py3-none-any.whl (11 kB)\n",
            "Installing collected packages: dash-table, dash-html-components, dash-core-components, Werkzeug, retrying, dash\n",
            "  Attempting uninstall: Werkzeug\n",
            "    Found existing installation: Werkzeug 3.1.3\n",
            "    Uninstalling Werkzeug-3.1.3:\n",
            "      Successfully uninstalled Werkzeug-3.1.3\n",
            "Successfully installed Werkzeug-3.0.6 dash-2.18.2 dash-core-components-2.0.0 dash-html-components-2.0.0 dash-table-5.0.0 retrying-1.3.4\n"
          ]
        }
      ]
    },
    {
      "cell_type": "markdown",
      "source": [
        "# 5 widgets"
      ],
      "metadata": {
        "id": "ORiYx75228aR"
      }
    },
    {
      "cell_type": "code",
      "source": [
        "!pip install dash"
      ],
      "metadata": {
        "colab": {
          "base_uri": "https://localhost:8080/"
        },
        "id": "Vvf4Yw6O4R8P",
        "outputId": "cb60b028-c1db-46cf-ceb8-42088d67ea14"
      },
      "execution_count": 11,
      "outputs": [
        {
          "output_type": "stream",
          "name": "stdout",
          "text": [
            "Requirement already satisfied: dash in /usr/local/lib/python3.10/dist-packages (2.18.2)\n",
            "Requirement already satisfied: Flask<3.1,>=1.0.4 in /usr/local/lib/python3.10/dist-packages (from dash) (3.0.3)\n",
            "Requirement already satisfied: Werkzeug<3.1 in /usr/local/lib/python3.10/dist-packages (from dash) (3.0.6)\n",
            "Requirement already satisfied: plotly>=5.0.0 in /usr/local/lib/python3.10/dist-packages (from dash) (5.24.1)\n",
            "Requirement already satisfied: dash-html-components==2.0.0 in /usr/local/lib/python3.10/dist-packages (from dash) (2.0.0)\n",
            "Requirement already satisfied: dash-core-components==2.0.0 in /usr/local/lib/python3.10/dist-packages (from dash) (2.0.0)\n",
            "Requirement already satisfied: dash-table==5.0.0 in /usr/local/lib/python3.10/dist-packages (from dash) (5.0.0)\n",
            "Requirement already satisfied: importlib-metadata in /usr/local/lib/python3.10/dist-packages (from dash) (8.5.0)\n",
            "Requirement already satisfied: typing-extensions>=4.1.1 in /usr/local/lib/python3.10/dist-packages (from dash) (4.12.2)\n",
            "Requirement already satisfied: requests in /usr/local/lib/python3.10/dist-packages (from dash) (2.32.3)\n",
            "Requirement already satisfied: retrying in /usr/local/lib/python3.10/dist-packages (from dash) (1.3.4)\n",
            "Requirement already satisfied: nest-asyncio in /usr/local/lib/python3.10/dist-packages (from dash) (1.6.0)\n",
            "Requirement already satisfied: setuptools in /usr/local/lib/python3.10/dist-packages (from dash) (75.1.0)\n",
            "Requirement already satisfied: Jinja2>=3.1.2 in /usr/local/lib/python3.10/dist-packages (from Flask<3.1,>=1.0.4->dash) (3.1.4)\n",
            "Requirement already satisfied: itsdangerous>=2.1.2 in /usr/local/lib/python3.10/dist-packages (from Flask<3.1,>=1.0.4->dash) (2.2.0)\n",
            "Requirement already satisfied: click>=8.1.3 in /usr/local/lib/python3.10/dist-packages (from Flask<3.1,>=1.0.4->dash) (8.1.7)\n",
            "Requirement already satisfied: blinker>=1.6.2 in /usr/local/lib/python3.10/dist-packages (from Flask<3.1,>=1.0.4->dash) (1.9.0)\n",
            "Requirement already satisfied: tenacity>=6.2.0 in /usr/local/lib/python3.10/dist-packages (from plotly>=5.0.0->dash) (9.0.0)\n",
            "Requirement already satisfied: packaging in /usr/local/lib/python3.10/dist-packages (from plotly>=5.0.0->dash) (24.2)\n",
            "Requirement already satisfied: MarkupSafe>=2.1.1 in /usr/local/lib/python3.10/dist-packages (from Werkzeug<3.1->dash) (3.0.2)\n",
            "Requirement already satisfied: zipp>=3.20 in /usr/local/lib/python3.10/dist-packages (from importlib-metadata->dash) (3.21.0)\n",
            "Requirement already satisfied: charset-normalizer<4,>=2 in /usr/local/lib/python3.10/dist-packages (from requests->dash) (3.4.0)\n",
            "Requirement already satisfied: idna<4,>=2.5 in /usr/local/lib/python3.10/dist-packages (from requests->dash) (3.10)\n",
            "Requirement already satisfied: urllib3<3,>=1.21.1 in /usr/local/lib/python3.10/dist-packages (from requests->dash) (2.2.3)\n",
            "Requirement already satisfied: certifi>=2017.4.17 in /usr/local/lib/python3.10/dist-packages (from requests->dash) (2024.8.30)\n",
            "Requirement already satisfied: six>=1.7.0 in /usr/local/lib/python3.10/dist-packages (from retrying->dash) (1.16.0)\n"
          ]
        }
      ]
    },
    {
      "cell_type": "code",
      "source": [
        "import dash\n",
        "from dash import dcc, html, Input, Output, State\n",
        "import plotly.express as px\n",
        "import pandas as pd\n",
        "\n",
        "df = pd.read_csv('Rent_Burden.csv')\n",
        "\n",
        "print(df.columns)"
      ],
      "metadata": {
        "colab": {
          "base_uri": "https://localhost:8080/",
          "height": 598
        },
        "id": "fSFpbIKE3Dtu",
        "outputId": "2af728f7-d447-470d-a35d-b384250f734d"
      },
      "execution_count": 12,
      "outputs": [
        {
          "output_type": "stream",
          "name": "stdout",
          "text": [
            "Index(['OBJECTID', 'NEIGH_NO', 'Neighborhood Name', 'Neighborhood Type',\n",
            "       'Neighborhood Subtype', 'ACS Vinatage', 'Occupied Housing Units',\n",
            "       'Owner Households', 'Renter Households',\n",
            "       'Gross Rent as a Percentage of Household Income Less than 15.0%',\n",
            "       'Gross Rent as a Percentage of Household Income 15.0 to 19.9%',\n",
            "       'Gross Rent as a Percentage of Household Income 20.0 to 24.9%',\n",
            "       'Gross Rent as a Percentage of Household Income 25.0 to 29.9%',\n",
            "       'Gross Rent as a Percentage of Household Income 30.0 to 34.9%',\n",
            "       'Gross Rent as a Percentage of Household Income 35.0% or more',\n",
            "       'Gross Rent 30% or more of Household Income',\n",
            "       'Gross Rent as a Percentage of Household Income Not Computed',\n",
            "       'Owner housing units with a mortgage where selected monthly onwer costs as a percentage of household income can be computed',\n",
            "       'Selected Monthly Owner Costs as a Percentage of Household Income Less than 20.0%',\n",
            "       'Selected Monthly Owner Costs as a Percentage of Household Income 20.0 to 24.9%',\n",
            "       ' Selected Monthly Owner Costs as a Percentage of Household Income 25.0 to 29.9%',\n",
            "       'Selected Monthly Owner Costs as a Percentage of Household Income 30.0 to 34.9%',\n",
            "       'Selected Monthly Owner Costs as a Percentage of Household Income 35.0% or more',\n",
            "       'Monthly Costs 30% or more of Household Income (owners with a mortgage)',\n",
            "       'Housing units with a mortgage where selected monthly onwer costs a s a percentage of household income not computed',\n",
            "       'Renter housing units with gross rent', 'Gross Rent Less Than $500',\n",
            "       'Gross Rent $500-$999', 'Gross Rent $1,000-$1,499',\n",
            "       'Gross Rent $1,500-$1,999', 'Gross Rent $2,000-$2,499',\n",
            "       'Gross Rent $2,500-$2,999', 'Gross Rent $3,000-$3,499',\n",
            "       'Gross Rent $3,500 or more', 'No cash rent',\n",
            "       'Owner housing units with a mortgage', 'Owner Costs Less Than $1,000',\n",
            "       'Owner Costs $1,000-$1,499', 'Owner Costs $1,500-$1,999',\n",
            "       'Owner Costs $2,000-$2,499', 'Owner Costs $2,500-$2,999',\n",
            "       'Owner Costs $3,000-$3,499', 'Owner Costs $3,500-$3,999',\n",
            "       'Owner Costs $4,000 or more', 'Owner housing units without a mortgage',\n",
            "       'Neighborhood Type (outside comp plan areas id)'],\n",
            "      dtype='object')\n"
          ]
        }
      ]
    },
    {
      "cell_type": "code",
      "source": [
        "import dash\n",
        "from dash import dcc, html, Input, Output, State\n",
        "import plotly.express as px\n",
        "import pandas as pd\n",
        "\n",
        "df = pd.read_csv('Rent_Burden.csv')\n",
        "\n",
        "app = dash.Dash(__name__)\n",
        "\n",
        "app.layout = html.Div([\n",
        "    dcc.Tabs([\n",
        "        dcc.Tab(label='Overview', children=[\n",
        "            html.Div([\n",
        "                html.H3(\"Overview of the Seattle Housing Crisis\"),\n",
        "                html.P(\"\"\"\n",
        "                    This project focuses on understanding the housing affordability crisis in Seattle.\n",
        "                    We analyze rent burdens, homeownership costs, and other factors contributing to affordability issues. The goal is to analyze factors contributing to housing insecurities and predict areas where households are more likely to face high rent burdens. We use a Linear Regression model to predict rent burden based on various neighborhood and economic factors.\n",
        "                \"\"\"),\n",
        "                html.Label(\"Select a Neighborhood:\"),\n",
        "                dcc.Dropdown(\n",
        "                    id='neighborhood-dropdown',\n",
        "                    options=[{'label': n, 'value': n} for n in df['Neighborhood Name'].unique()],\n",
        "                    placeholder=\"Select a Neighborhood\"\n",
        "                ),\n",
        "                html.Div(id='neighborhood-output'),\n",
        "            ])\n",
        "        ]),\n",
        "        dcc.Tab(label='Tabulations', children=[\n",
        "            html.Div([\n",
        "                html.H3(\"Explore Housing Data\"),\n",
        "                html.Label(\"Adjust Histogram Bin Size:\"),\n",
        "                dcc.Slider(\n",
        "                    id='bin-slider',\n",
        "                    min=5,\n",
        "                    max=50,\n",
        "                    step=5,\n",
        "                    value=20,\n",
        "                    marks={i: f\"{i}\" for i in range(5, 55, 10)}\n",
        "                ),\n",
        "                dcc.Graph(id='histogram'),\n",
        "                html.Label(\"Filter by Rent Burden (35% or more):\"),\n",
        "                dcc.RangeSlider(\n",
        "                    id='rent-burden-slider',\n",
        "                    min=df['Gross Rent as a Percentage of Household Income 35.0% or more'].min(),\n",
        "                    max=df['Gross Rent as a Percentage of Household Income 35.0% or more'].max(),\n",
        "                    step=1,\n",
        "                    value=[df['Gross Rent as a Percentage of Household Income 35.0% or more'].min(),\n",
        "                           df['Gross Rent as a Percentage of Household Income 35.0% or more'].max()],\n",
        "                    marks={i: str(i) for i in range(int(df['Gross Rent as a Percentage of Household Income 35.0% or more'].min()),\n",
        "                                                  int(df['Gross Rent as a Percentage of Household Income 35.0% or more'].max())+1, 5)}\n",
        "                ),\n",
        "                html.Div(id='filtered-data-output'),\n",
        "            ])\n",
        "        ]),\n",
        "        dcc.Tab(label='Models', children=[\n",
        "            html.Div([\n",
        "                html.H3(\"Model Results and Predictions\"),\n",
        "                dcc.Graph(id='scatterplot'),\n",
        "                html.Label(\"Select Rent Range:\"),\n",
        "                dcc.RangeSlider(\n",
        "                    id='rent-range-slider',\n",
        "                    min=df['Gross Rent as a Percentage of Household Income 35.0% or more'].min(),\n",
        "                    max=df['Gross Rent as a Percentage of Household Income 35.0% or more'].max(),\n",
        "                    step=1,\n",
        "                    value=[df['Gross Rent as a Percentage of Household Income 35.0% or more'].min(), df['Gross Rent as a Percentage of Household Income 35.0% or more'].max()],\n",
        "                    marks={i: str(i) for i in range(int(df['Gross Rent as a Percentage of Household Income 35.0% or more'].min()),\n",
        "                                                  int(df['Gross Rent as a Percentage of Household Income 35.0% or more'].max())+1, 5)}\n",
        "                ),\n",
        "                html.Label(\"Enter Household Income:\"),\n",
        "                dcc.Input(id='income-input', type='number', value=50000),\n",
        "                html.Label(\"Enter Rent Value:\"),\n",
        "                dcc.Input(id='rent-input', type='number', value=1500),\n",
        "                html.Button('Predict', id='predict-button'),\n",
        "                html.Div(id='prediction-output'),\n",
        "            ])\n",
        "        ]),\n",
        "    ])\n",
        "])\n",
        "\n",
        "# Functions\n",
        "\n",
        "# 1. Neighborhood Dropdown\n",
        "@app.callback(\n",
        "    Output('neighborhood-output', 'children'),\n",
        "    Input('neighborhood-dropdown', 'value')\n",
        ")\n",
        "def update_neighborhood(selected_neighborhood):\n",
        "    if selected_neighborhood:\n",
        "        filtered_data = df[df['Neighborhood Name'] == selected_neighborhood]\n",
        "        return f\"Average Rent in {selected_neighborhood}: ${filtered_data['Gross Rent as a Percentage of Household Income 35.0% or more'].mean():,.2f}\"\n",
        "    return \"Select a neighborhood to see details.\"\n",
        "\n",
        "# 2. Slider\n",
        "@app.callback(\n",
        "    Output('histogram', 'figure'),\n",
        "    Input('bin-slider', 'value')\n",
        ")\n",
        "def update_histogram(bin_size):\n",
        "    fig = px.histogram(df, x='Gross Rent as a Percentage of Household Income 35.0% or more', nbins=bin_size,\n",
        "                       title=\"Distribution of Rent Burden (35% or more)\")\n",
        "    return fig\n",
        "\n",
        "# 3. RangeSlider\n",
        "@app.callback(\n",
        "    Output('filtered-data-output', 'children'),\n",
        "    Input('rent-burden-slider', 'value')\n",
        ")\n",
        "def update_filtered_data(rent_burden_range):\n",
        "    filtered_data = df[(df['Gross Rent as a Percentage of Household Income 35.0% or more'] >= rent_burden_range[0]) &\n",
        "                        (df['Gross Rent as a Percentage of Household Income 35.0% or more'] <= rent_burden_range[1])]\n",
        "    return f\"Filtered Data: {len(filtered_data)} rows\"\n",
        "\n",
        "# 4. RangeSlider\n",
        "@app.callback(\n",
        "    Output('scatterplot', 'figure'),\n",
        "    Input('rent-range-slider', 'value')\n",
        ")\n",
        "def update_scatterplot(rent_range):\n",
        "    filtered_data = df[(df['Gross Rent as a Percentage of Household Income 35.0% or more'] >= rent_range[0]) &\n",
        "                       (df['Gross Rent as a Percentage of Household Income 35.0% or more'] <= rent_range[1])]\n",
        "    fig = px.scatter(filtered_data, x='Gross Rent as a Percentage of Household Income 35.0% or more',\n",
        "                     y='Gross Rent as a Percentage of Household Income 35.0% or more',\n",
        "                     title=\"Scatterplot of Rent Burden vs Rent Burden\")\n",
        "    return fig\n",
        "\n",
        "# 5. Input and Button\n",
        "@app.callback(\n",
        "    Output('prediction-output', 'children'),\n",
        "    Input('predict-button', 'n_clicks'),\n",
        "    State('income-input', 'value'),\n",
        "    State('rent-input', 'value')\n",
        ")\n",
        "def update_prediction(n_clicks, income, rent):\n",
        "    if n_clicks:\n",
        "        # rent burden prediction = rent / income\n",
        "        predicted_burden = (rent / income) * 100\n",
        "        return f\"Predicted Rent Burden: {predicted_burden:,.2f}%\"\n",
        "    return \"\"\n",
        "\n",
        "if __name__ == '__main__':\n",
        "    app.run_server(debug=True)\n",
        "\n"
      ],
      "metadata": {
        "colab": {
          "base_uri": "https://localhost:8080/",
          "height": 671
        },
        "id": "-VBB6R5r6RCv",
        "outputId": "3145dda8-981a-4dd3-b68c-3efdb5eeddbd"
      },
      "execution_count": 13,
      "outputs": [
        {
          "output_type": "display_data",
          "data": {
            "text/plain": [
              "<IPython.core.display.Javascript object>"
            ],
            "application/javascript": [
              "(async (port, path, width, height, cache, element) => {\n",
              "    if (!google.colab.kernel.accessAllowed && !cache) {\n",
              "      return;\n",
              "    }\n",
              "    element.appendChild(document.createTextNode(''));\n",
              "    const url = await google.colab.kernel.proxyPort(port, {cache});\n",
              "    const iframe = document.createElement('iframe');\n",
              "    iframe.src = new URL(path, url).toString();\n",
              "    iframe.height = height;\n",
              "    iframe.width = width;\n",
              "    iframe.style.border = 0;\n",
              "    iframe.allow = [\n",
              "        'accelerometer',\n",
              "        'autoplay',\n",
              "        'camera',\n",
              "        'clipboard-read',\n",
              "        'clipboard-write',\n",
              "        'gyroscope',\n",
              "        'magnetometer',\n",
              "        'microphone',\n",
              "        'serial',\n",
              "        'usb',\n",
              "        'xr-spatial-tracking',\n",
              "    ].join('; ');\n",
              "    element.appendChild(iframe);\n",
              "  })(8050, \"/\", \"100%\", 650, false, window.element)"
            ]
          },
          "metadata": {}
        }
      ]
    },
    {
      "cell_type": "code",
      "source": [
        "import pandas as pd\n",
        "import numpy as np\n",
        "from sklearn.model_selection import train_test_split\n",
        "from sklearn.linear_model import LinearRegression\n",
        "from sklearn.metrics import mean_squared_error, r2_score\n",
        "import plotly.express as px\n",
        "import dash\n",
        "from dash import dcc, html\n",
        "from dash.dependencies import Input, Output\n",
        "\n",
        "# Load and preprocess the data\n",
        "df = pd.read_csv('Rent_Burden.csv')\n",
        "\n",
        "\n",
        "# Define features (X) and target (y)\n",
        "X = df[['Gross Rent as a Percentage of Household Income 15.0 to 19.9%',\n",
        "        'Gross Rent as a Percentage of Household Income 20.0 to 24.9%',\n",
        "        'Owner housing units with a mortgage',\n",
        "        'Owner Costs $1,000-$1,499',\n",
        "        'Owner Costs $1,500-$1,999']]\n",
        "y = df['Gross Rent as a Percentage of Household Income 35.0% or more']\n",
        "\n",
        "# Split the data into training and testing sets\n",
        "X_train, X_test, y_train, y_test = train_test_split(X, y, test_size=0.2, random_state=42)\n",
        "\n",
        "# Train the Linear Regression model\n",
        "model = LinearRegression()\n",
        "model.fit(X_train, y_train)\n",
        "\n",
        "# Evaluate the model\n",
        "y_pred = model.predict(X_test)\n",
        "r2 = r2_score(y_test, y_pred)\n",
        "mse = mean_squared_error(y_test, y_pred)\n",
        "\n",
        "# Coefficients of the model\n",
        "coefficients = model.coef_\n",
        "\n",
        "# Prepare the model summary\n",
        "model_summary = {\n",
        "    \"R-squared\": r2,\n",
        "    \"Mean Squared Error\": mse,\n",
        "    \"Intercept\": model.intercept_,\n",
        "    \"Coefficients\": dict(zip(X.columns, coefficients))\n",
        "}\n",
        "\n",
        "# Build the Dash app\n",
        "app = dash.Dash(__name__)\n",
        "\n",
        "app.layout = html.Div([\n",
        "    dcc.Tabs([\n",
        "        dcc.Tab(label='Overview', children=[\n",
        "            html.Div([\n",
        "                html.H3(\"Overview of the Seattle Housing Crisis\"),\n",
        "                html.P(\"\"\"\n",
        "                    This project explores housing affordability in Seattle. The goal is to analyze factors\n",
        "                    contributing to housing insecurities and predict areas where households are more likely\n",
        "                    to face high rent burdens. We use a Linear Regression model to predict rent burden based\n",
        "                    on various neighborhood and economic factors.\n",
        "                \"\"\"),\n",
        "            ])\n",
        "        ]),\n",
        "\n",
        "        dcc.Tab(label='Model Results', children=[\n",
        "            html.Div([\n",
        "                html.H3(\"Regression Model: Rent Burden Prediction\"),\n",
        "\n",
        "                # Display model summary\n",
        "                html.Table([\n",
        "                    html.Tr([html.Th(\"R-squared\"), html.Td(f\"{model_summary['R-squared']:.4f}\")]),\n",
        "                    html.Tr([html.Th(\"Mean Squared Error\"), html.Td(f\"{model_summary['Mean Squared Error']:.4f}\")]),\n",
        "                    html.Tr([html.Th(\"Intercept\"), html.Td(f\"{model_summary['Intercept']:.4f}\")]),\n",
        "                    *[html.Tr([html.Th(f\"{col} Coefficient\"), html.Td(f\"{coef:.4f}\")]) for col, coef in model_summary['Coefficients'].items()]\n",
        "                ]),\n",
        "\n",
        "                html.Br(),\n",
        "\n",
        "                # Interactive input for prediction\n",
        "                html.Div([\n",
        "                    html.Label(\"Owner housing units with a mortgage\"),\n",
        "                    dcc.Slider(\n",
        "                        id='slider-mortgage',\n",
        "                        min=0,\n",
        "                        max=1,\n",
        "                        step=1,\n",
        "                        value=0,\n",
        "                        marks={0: 'No', 1: 'Yes'}\n",
        "                    ),\n",
        "\n",
        "\n",
        "                    html.Label(\"Select the percentage of household income spent on rent (15-19.9%)\"),\n",
        "                    dcc.Slider(\n",
        "                        id='slider_15_19_9',\n",
        "                        min=0,\n",
        "                        max=100,\n",
        "                        step=1,\n",
        "                        value=20,\n",
        "                        marks={i: str(i) for i in range(0, 101, 10)}\n",
        "                    ),\n",
        "                    html.Label(\"Select the percentage of household income spent on rent (20-24.9%)\"),\n",
        "                    dcc.Slider(\n",
        "                        id='slider_20_24_9',\n",
        "                        min=0,\n",
        "                        max=100,\n",
        "                        step=1,\n",
        "                        value=20,\n",
        "                        marks={i: str(i) for i in range(0, 101, 10)}\n",
        "                    ),\n",
        "                    html.Label(\"Homeownership costs $1,000-$1,499\"),\n",
        "                    dcc.Slider(\n",
        "                        id='slider-1000-1499',\n",
        "                        min=0,\n",
        "                        max=1,\n",
        "                        step=1,\n",
        "                        value=0,\n",
        "                        marks={0: 'No', 1: 'Yes'}\n",
        "                    ),\n",
        "                    html.Label(\"Homeownership costs $1,500-$1,999\"),\n",
        "                    dcc.Slider(\n",
        "                        id='slider-1500-1999',\n",
        "                        min=0,\n",
        "                        max=1,\n",
        "                        step=1,\n",
        "                        value=0,\n",
        "                        marks={0: 'No', 1: 'Yes'}\n",
        "                    ),\n",
        "                    html.Br(),\n",
        "                    html.Button('Predict Rent Burden', id='predict-button'),\n",
        "                    html.Div(id='prediction-output')\n",
        "                ])\n",
        "            ])\n",
        "        ]),\n",
        "    ])\n",
        "])\n",
        "\n",
        "# Define callback to update the prediction based on user input\n",
        "@app.callback(\n",
        "    Output('prediction-output', 'children'),\n",
        "    [Input('slider_15_19_9', 'value'),\n",
        "     Input('slider_20_24_9', 'value'),\n",
        "     Input('slider-mortgage', 'value'),\n",
        "     Input('slider-1000-1499', 'value'),\n",
        "     Input('slider-1500-1999', 'value')]\n",
        ")\n",
        "def predict_rent_burden(slider_15_19_9, slider_20_24_9, slider_mortgage, slider_1000_1499, slider_1500_1999):\n",
        "    # Prepare the input data\n",
        "    input_data = np.array([[slider_15_19_9, slider_20_24_9, slider_mortgage, slider_1000_1499, slider_1500_1999]])\n",
        "\n",
        "    # Make a prediction\n",
        "    prediction = model.predict(input_data)\n",
        "\n",
        "    return f\"Predicted Rent Burden (Probability of spending >35% of income on rent): {prediction[0]:.4f}\"\n",
        "\n",
        "# Run the app\n",
        "if __name__ == '__main__':\n",
        "    app.run_server(debug=True)"
      ],
      "metadata": {
        "colab": {
          "base_uri": "https://localhost:8080/",
          "height": 671
        },
        "id": "swze4HoOfopj",
        "outputId": "62698d6e-bebb-454f-d8d1-95aab5d6a0cc"
      },
      "execution_count": 14,
      "outputs": [
        {
          "output_type": "display_data",
          "data": {
            "text/plain": [
              "<IPython.core.display.Javascript object>"
            ],
            "application/javascript": [
              "(async (port, path, width, height, cache, element) => {\n",
              "    if (!google.colab.kernel.accessAllowed && !cache) {\n",
              "      return;\n",
              "    }\n",
              "    element.appendChild(document.createTextNode(''));\n",
              "    const url = await google.colab.kernel.proxyPort(port, {cache});\n",
              "    const iframe = document.createElement('iframe');\n",
              "    iframe.src = new URL(path, url).toString();\n",
              "    iframe.height = height;\n",
              "    iframe.width = width;\n",
              "    iframe.style.border = 0;\n",
              "    iframe.allow = [\n",
              "        'accelerometer',\n",
              "        'autoplay',\n",
              "        'camera',\n",
              "        'clipboard-read',\n",
              "        'clipboard-write',\n",
              "        'gyroscope',\n",
              "        'magnetometer',\n",
              "        'microphone',\n",
              "        'serial',\n",
              "        'usb',\n",
              "        'xr-spatial-tracking',\n",
              "    ].join('; ');\n",
              "    element.appendChild(iframe);\n",
              "  })(8050, \"/\", \"100%\", 650, false, window.element)"
            ]
          },
          "metadata": {}
        }
      ]
    },
    {
      "cell_type": "code",
      "source": [
        "from dash import dcc, html, dash_table\n",
        "import dash\n",
        "import pandas as pd\n",
        "\n",
        "\n",
        "df_snapshot = pd.read_csv('Rent_Burden.csv')\n",
        "\n",
        "# Select columns\n",
        "df_snapshot = df_snapshot[[\n",
        "    'Gross Rent as a Percentage of Household Income 15.0 to 19.9%',\n",
        "    'Gross Rent as a Percentage of Household Income 20.0 to 24.9%',\n",
        "    'Owner housing units with a mortgage',\n",
        "    'Owner Costs $1,000-$1,499',\n",
        "    'Owner Costs $1,500-$1,999',\n",
        "    'Gross Rent as a Percentage of Household Income 35.0% or more'\n",
        "]].head(20)\n",
        "\n",
        "app = dash.Dash(__name__)\n",
        "\n",
        "# setup layout\n",
        "app.layout = html.Div([\n",
        "    html.H3(\"Snapshot of Project Data\"),\n",
        "    dash_table.DataTable(\n",
        "        id='data-table',\n",
        "        columns=[{\"name\": col, \"id\": col} for col in df_snapshot.columns],\n",
        "        data=df_snapshot.to_dict('records'),\n",
        "        style_table={'overflowX': 'auto'},\n",
        "        style_cell={\n",
        "            'textAlign': 'left',\n",
        "            'minWidth': '150px',\n",
        "            'width': '150px',\n",
        "            'maxWidth': '150px',\n",
        "        },\n",
        "        style_header={\n",
        "            'backgroundColor': 'lightgrey',\n",
        "            'fontWeight': 'bold',\n",
        "            'textAlign': 'center',\n",
        "        },\n",
        "        page_size=10,\n",
        "        filter_action='native',\n",
        "        sort_action='native',\n",
        "    ),\n",
        "])\n",
        "\n",
        "\n",
        "if __name__ == '__main__':\n",
        "    app.run_server(debug=True)\n"
      ],
      "metadata": {
        "id": "mpG7BiKnB312",
        "colab": {
          "base_uri": "https://localhost:8080/",
          "height": 671
        },
        "outputId": "df2a921f-3719-4684-8196-79279698fc89"
      },
      "execution_count": 15,
      "outputs": [
        {
          "output_type": "display_data",
          "data": {
            "text/plain": [
              "<IPython.core.display.Javascript object>"
            ],
            "application/javascript": [
              "(async (port, path, width, height, cache, element) => {\n",
              "    if (!google.colab.kernel.accessAllowed && !cache) {\n",
              "      return;\n",
              "    }\n",
              "    element.appendChild(document.createTextNode(''));\n",
              "    const url = await google.colab.kernel.proxyPort(port, {cache});\n",
              "    const iframe = document.createElement('iframe');\n",
              "    iframe.src = new URL(path, url).toString();\n",
              "    iframe.height = height;\n",
              "    iframe.width = width;\n",
              "    iframe.style.border = 0;\n",
              "    iframe.allow = [\n",
              "        'accelerometer',\n",
              "        'autoplay',\n",
              "        'camera',\n",
              "        'clipboard-read',\n",
              "        'clipboard-write',\n",
              "        'gyroscope',\n",
              "        'magnetometer',\n",
              "        'microphone',\n",
              "        'serial',\n",
              "        'usb',\n",
              "        'xr-spatial-tracking',\n",
              "    ].join('; ');\n",
              "    element.appendChild(iframe);\n",
              "  })(8050, \"/\", \"100%\", 650, false, window.element)"
            ]
          },
          "metadata": {}
        }
      ]
    },
    {
      "cell_type": "markdown",
      "source": [],
      "metadata": {
        "id": "-zxWQsdxdPe_"
      }
    }
  ]
}